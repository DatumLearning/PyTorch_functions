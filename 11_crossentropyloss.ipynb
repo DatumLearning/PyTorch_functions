{
  "nbformat": 4,
  "nbformat_minor": 0,
  "metadata": {
    "colab": {
      "provenance": [],
      "authorship_tag": "ABX9TyNxHEzsrhUgkV0cYTaYYW+B",
      "include_colab_link": true
    },
    "kernelspec": {
      "name": "python3",
      "display_name": "Python 3"
    },
    "language_info": {
      "name": "python"
    }
  },
  "cells": [
    {
      "cell_type": "markdown",
      "metadata": {
        "id": "view-in-github",
        "colab_type": "text"
      },
      "source": [
        "<a href=\"https://colab.research.google.com/github/DatumLearning/PyTorch_functions/blob/main/11_crossentropyloss.ipynb\" target=\"_parent\"><img src=\"https://colab.research.google.com/assets/colab-badge.svg\" alt=\"Open In Colab\"/></a>"
      ]
    },
    {
      "cell_type": "code",
      "execution_count": null,
      "metadata": {
        "id": "o6f_dA2CWG7K"
      },
      "outputs": [],
      "source": [
        "import torch\n",
        "import torch.nn as nn"
      ]
    },
    {
      "cell_type": "code",
      "source": [
        "#reduction\n",
        "out = torch.randn(5)\n",
        "inds = torch.Tensor([2]).long()"
      ],
      "metadata": {
        "id": "NLMplhdFWNAX"
      },
      "execution_count": null,
      "outputs": []
    },
    {
      "cell_type": "code",
      "source": [
        "out , inds"
      ],
      "metadata": {
        "colab": {
          "base_uri": "https://localhost:8080/"
        },
        "id": "8IrvsCIRWl60",
        "outputId": "f2c13193-9bc8-4b1d-b4a4-c5501c326ce5"
      },
      "execution_count": null,
      "outputs": [
        {
          "output_type": "execute_result",
          "data": {
            "text/plain": [
              "(tensor([ 0.6943,  0.3898,  0.1563,  1.7468, -0.8538]), tensor([2]))"
            ]
          },
          "metadata": {},
          "execution_count": 69
        }
      ]
    },
    {
      "cell_type": "code",
      "source": [
        "out.shape , inds.shape"
      ],
      "metadata": {
        "colab": {
          "base_uri": "https://localhost:8080/"
        },
        "id": "iwfZnXErZpPa",
        "outputId": "b16b643a-fcfe-40de-cc52-27aece2791ce"
      },
      "execution_count": null,
      "outputs": [
        {
          "output_type": "execute_result",
          "data": {
            "text/plain": [
              "(torch.Size([5]), torch.Size([1]))"
            ]
          },
          "metadata": {},
          "execution_count": 70
        }
      ]
    },
    {
      "cell_type": "code",
      "source": [
        "inds.squeeze()"
      ],
      "metadata": {
        "colab": {
          "base_uri": "https://localhost:8080/"
        },
        "id": "h0xS4lvfglf7",
        "outputId": "552d0255-4e19-4f24-9eaa-0c70a7c3acec"
      },
      "execution_count": null,
      "outputs": [
        {
          "output_type": "execute_result",
          "data": {
            "text/plain": [
              "tensor(2)"
            ]
          },
          "metadata": {},
          "execution_count": 73
        }
      ]
    },
    {
      "cell_type": "code",
      "source": [
        "nn.CrossEntropyLoss(reduction = 'none')(out , inds.squeeze())"
      ],
      "metadata": {
        "colab": {
          "base_uri": "https://localhost:8080/"
        },
        "id": "AJGIa2xAWmkj",
        "outputId": "1d2d60e1-296f-45a5-b9ea-88a5633453b5"
      },
      "execution_count": null,
      "outputs": [
        {
          "output_type": "execute_result",
          "data": {
            "text/plain": [
              "tensor(2.2241)"
            ]
          },
          "metadata": {},
          "execution_count": 75
        }
      ]
    },
    {
      "cell_type": "code",
      "source": [
        "torch.exp(out)"
      ],
      "metadata": {
        "colab": {
          "base_uri": "https://localhost:8080/"
        },
        "id": "mmpB85y7gp1z",
        "outputId": "a556b7f2-92e9-4a1e-ac12-cccb4755f836"
      },
      "execution_count": null,
      "outputs": [
        {
          "output_type": "execute_result",
          "data": {
            "text/plain": [
              "tensor([2.0023, 1.4766, 1.1692, 5.7360, 0.4258])"
            ]
          },
          "metadata": {},
          "execution_count": 80
        }
      ]
    },
    {
      "cell_type": "code",
      "source": [],
      "metadata": {
        "id": "AmSf-oq4lssY"
      },
      "execution_count": null,
      "outputs": []
    },
    {
      "cell_type": "code",
      "source": [
        "temp = torch.exp(out)\n",
        "-torch.log(temp[2] / temp.sum())"
      ],
      "metadata": {
        "colab": {
          "base_uri": "https://localhost:8080/"
        },
        "id": "R1kkxrswXE0u",
        "outputId": "35d01b5c-421f-4cd7-b0cd-a6cbc77e5808"
      },
      "execution_count": null,
      "outputs": [
        {
          "output_type": "execute_result",
          "data": {
            "text/plain": [
              "tensor(2.2241)"
            ]
          },
          "metadata": {},
          "execution_count": 81
        }
      ]
    },
    {
      "cell_type": "code",
      "source": [
        "nn.CrossEntropyLoss(reduction = 'none' , ignore_index = 0)(out , inds.squeeze())"
      ],
      "metadata": {
        "colab": {
          "base_uri": "https://localhost:8080/"
        },
        "id": "zIud54ZEcewS",
        "outputId": "926a7199-3dd9-4017-8317-99a6591f5c2f"
      },
      "execution_count": null,
      "outputs": [
        {
          "output_type": "execute_result",
          "data": {
            "text/plain": [
              "tensor(2.2241)"
            ]
          },
          "metadata": {},
          "execution_count": 85
        }
      ]
    },
    {
      "cell_type": "code",
      "source": [
        "#Weights\n",
        "out = torch.randn(9 , 10)\n",
        "inds = torch.multinomial(torch.ones(10) , 9 , replacement = True)"
      ],
      "metadata": {
        "id": "DM-0WX-rgYWa"
      },
      "execution_count": null,
      "outputs": []
    },
    {
      "cell_type": "code",
      "source": [
        "out , inds"
      ],
      "metadata": {
        "colab": {
          "base_uri": "https://localhost:8080/"
        },
        "id": "35LumthRm958",
        "outputId": "c25af442-4248-40f7-a21d-9ae9f0f36b98"
      },
      "execution_count": null,
      "outputs": [
        {
          "output_type": "execute_result",
          "data": {
            "text/plain": [
              "(tensor([[-0.6627,  0.0125, -0.8689,  1.2663,  0.3835, -0.2469,  0.7033,  0.8755,\n",
              "           0.2038, -0.1871],\n",
              "         [ 0.3090, -1.8333,  0.6941, -1.2738,  1.0952,  0.7026,  1.0573, -0.8585,\n",
              "          -0.1993,  0.8612],\n",
              "         [-1.2767,  1.2989, -0.7341,  0.1380,  0.8725,  0.0437,  0.7737,  0.1586,\n",
              "           1.2480,  0.3353],\n",
              "         [ 1.0488,  1.8165, -0.8610, -0.0161, -1.7292,  1.1800,  0.9108,  0.6373,\n",
              "           0.7313, -0.2089],\n",
              "         [-0.4451,  0.3147, -0.0676,  0.1944, -0.6609,  0.0896, -2.0779,  0.0921,\n",
              "           1.8691,  1.6468],\n",
              "         [-0.6787, -0.3080,  0.3943,  0.7603, -0.0178,  0.4185, -0.5894,  0.0299,\n",
              "           1.4921, -2.2774],\n",
              "         [-0.7358, -0.3268,  0.4810,  0.0871, -0.0615,  0.2411,  0.0348,  0.2545,\n",
              "           1.0046,  0.9578],\n",
              "         [-0.3820, -0.1468,  0.0317,  0.6966,  0.3108,  0.5899, -1.2950,  0.4363,\n",
              "          -0.2209,  1.4802],\n",
              "         [ 0.2837, -0.7945, -0.3992,  0.8614, -0.4167,  1.2429, -0.9311,  1.2213,\n",
              "          -0.9615,  0.9733]]),\n",
              " tensor([4, 6, 8, 6, 8, 6, 8, 9, 5]))"
            ]
          },
          "metadata": {},
          "execution_count": 87
        }
      ]
    },
    {
      "cell_type": "code",
      "source": [
        "wt = torch.ones(10)\n",
        "wt[torch.arange(5)*2] *= 2\n",
        "wt"
      ],
      "metadata": {
        "colab": {
          "base_uri": "https://localhost:8080/"
        },
        "id": "6IV2_Ru9rxuV",
        "outputId": "46df5a4f-286c-495e-d538-f58719f313f4"
      },
      "execution_count": null,
      "outputs": [
        {
          "output_type": "execute_result",
          "data": {
            "text/plain": [
              "tensor([2., 1., 2., 1., 2., 1., 2., 1., 2., 1.])"
            ]
          },
          "metadata": {},
          "execution_count": 55
        }
      ]
    },
    {
      "cell_type": "code",
      "source": [
        "[torch.arange(4)*2]"
      ],
      "metadata": {
        "colab": {
          "base_uri": "https://localhost:8080/"
        },
        "id": "7XgcbqvVsGSc",
        "outputId": "a5a8fc8c-d23b-471f-d5ef-333d3a251a20"
      },
      "execution_count": null,
      "outputs": [
        {
          "output_type": "execute_result",
          "data": {
            "text/plain": [
              "[tensor([0, 2, 4, 6])]"
            ]
          },
          "metadata": {},
          "execution_count": 56
        }
      ]
    },
    {
      "cell_type": "code",
      "source": [
        "nn.CrossEntropyLoss(reduction = 'none')(out , inds)"
      ],
      "metadata": {
        "colab": {
          "base_uri": "https://localhost:8080/"
        },
        "id": "P7llqD_2m-cJ",
        "outputId": "fe290148-3a97-4278-8444-c60d35d015af"
      },
      "execution_count": null,
      "outputs": [
        {
          "output_type": "execute_result",
          "data": {
            "text/plain": [
              "tensor([3.4603, 3.4234, 2.7970, 1.3594, 2.1483, 2.6299, 2.9093, 3.4872, 2.0821])"
            ]
          },
          "metadata": {},
          "execution_count": 57
        }
      ]
    },
    {
      "cell_type": "code",
      "source": [
        "nn.CrossEntropyLoss(weight = wt , reduction = 'none')(out , inds)"
      ],
      "metadata": {
        "colab": {
          "base_uri": "https://localhost:8080/"
        },
        "id": "rStvaOnorYFC",
        "outputId": "0c2392f8-6288-4ec7-867e-5e5557b16133"
      },
      "execution_count": null,
      "outputs": [
        {
          "output_type": "execute_result",
          "data": {
            "text/plain": [
              "tensor([6.9206, 6.8469, 5.5940, 2.7187, 2.1483, 2.6299, 2.9093, 3.4872, 2.0821])"
            ]
          },
          "metadata": {},
          "execution_count": 58
        }
      ]
    },
    {
      "cell_type": "code",
      "source": [
        "#Label smoothing"
      ],
      "metadata": {
        "id": "GsgT3CLvsg8x"
      },
      "execution_count": null,
      "outputs": []
    },
    {
      "cell_type": "code",
      "source": [
        "ohe = torch.zeros(10)\n",
        "ohe[2] = 1\n",
        "ohe"
      ],
      "metadata": {
        "colab": {
          "base_uri": "https://localhost:8080/"
        },
        "id": "ODnfQd8khra2",
        "outputId": "6a067fb3-9ea8-4649-b83c-b8b73d6ef0aa"
      },
      "execution_count": null,
      "outputs": [
        {
          "output_type": "execute_result",
          "data": {
            "text/plain": [
              "tensor([0., 0., 1., 0., 0., 0., 0., 0., 0., 0.])"
            ]
          },
          "metadata": {},
          "execution_count": 60
        }
      ]
    },
    {
      "cell_type": "code",
      "source": [
        "alpha = 0.2"
      ],
      "metadata": {
        "id": "2XXAqb3Jhw68"
      },
      "execution_count": null,
      "outputs": []
    },
    {
      "cell_type": "code",
      "source": [
        "(1 - alpha) * ohe + alpha / 10"
      ],
      "metadata": {
        "colab": {
          "base_uri": "https://localhost:8080/"
        },
        "id": "XIa4_aLZh9VH",
        "outputId": "06eeeb81-7e2f-42ca-feb2-2483a3b7296f"
      },
      "execution_count": null,
      "outputs": [
        {
          "output_type": "execute_result",
          "data": {
            "text/plain": [
              "tensor([0.0200, 0.0200, 0.8200, 0.0200, 0.0200, 0.0200, 0.0200, 0.0200, 0.0200,\n",
              "        0.0200])"
            ]
          },
          "metadata": {},
          "execution_count": 62
        }
      ]
    },
    {
      "cell_type": "code",
      "source": [
        "((1 - alpha) * ohe + alpha / 10).sum()"
      ],
      "metadata": {
        "colab": {
          "base_uri": "https://localhost:8080/"
        },
        "id": "eniaCUaLiCOG",
        "outputId": "c7aaa4de-50fd-4a89-e3fa-f4396966694f"
      },
      "execution_count": null,
      "outputs": [
        {
          "output_type": "execute_result",
          "data": {
            "text/plain": [
              "tensor(1.0000)"
            ]
          },
          "metadata": {},
          "execution_count": 63
        }
      ]
    },
    {
      "cell_type": "code",
      "source": [
        "nn.CrossEntropyLoss(label_smoothing = 0.1 , reduction = 'none')(out , inds)"
      ],
      "metadata": {
        "colab": {
          "base_uri": "https://localhost:8080/"
        },
        "id": "aRq7jo43iGjR",
        "outputId": "a9c6ceb5-0886-467d-9c06-7b3f24e97466"
      },
      "execution_count": null,
      "outputs": [
        {
          "output_type": "execute_result",
          "data": {
            "text/plain": [
              "tensor([3.3774, 3.3651, 2.7620, 1.4877, 2.2456, 2.6280, 2.8801, 3.4268, 2.1380])"
            ]
          },
          "metadata": {},
          "execution_count": 66
        }
      ]
    },
    {
      "cell_type": "code",
      "source": [],
      "metadata": {
        "id": "7geHjClujPFb"
      },
      "execution_count": null,
      "outputs": []
    }
  ]
}