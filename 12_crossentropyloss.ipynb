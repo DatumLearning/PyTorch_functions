{
  "nbformat": 4,
  "nbformat_minor": 0,
  "metadata": {
    "colab": {
      "provenance": [],
      "authorship_tag": "ABX9TyMeb0IgBfA+vcKp6ERg2jGU",
      "include_colab_link": true
    },
    "kernelspec": {
      "name": "python3",
      "display_name": "Python 3"
    },
    "language_info": {
      "name": "python"
    }
  },
  "cells": [
    {
      "cell_type": "markdown",
      "metadata": {
        "id": "view-in-github",
        "colab_type": "text"
      },
      "source": [
        "<a href=\"https://colab.research.google.com/github/DatumLearning/PyTorch_functions/blob/main/12_crossentropyloss.ipynb\" target=\"_parent\"><img src=\"https://colab.research.google.com/assets/colab-badge.svg\" alt=\"Open In Colab\"/></a>"
      ]
    },
    {
      "cell_type": "code",
      "execution_count": null,
      "metadata": {
        "id": "o6f_dA2CWG7K"
      },
      "outputs": [],
      "source": [
        "import torch\n",
        "import torch.nn as nn"
      ]
    },
    {
      "cell_type": "code",
      "source": [
        "#reduction\n",
        "out = torch.randn(5)\n",
        "inds = torch.Tensor([2]).long()"
      ],
      "metadata": {
        "id": "NLMplhdFWNAX"
      },
      "execution_count": null,
      "outputs": []
    },
    {
      "cell_type": "code",
      "source": [
        "out , inds"
      ],
      "metadata": {
        "colab": {
          "base_uri": "https://localhost:8080/"
        },
        "id": "8IrvsCIRWl60",
        "outputId": "f08b8b70-0b09-4268-b436-70a137f61e4f"
      },
      "execution_count": null,
      "outputs": [
        {
          "output_type": "execute_result",
          "data": {
            "text/plain": [
              "(tensor([ 0.9024, -0.1498,  0.7076, -0.9631,  0.8030]), tensor([2]))"
            ]
          },
          "metadata": {},
          "execution_count": 3
        }
      ]
    },
    {
      "cell_type": "code",
      "source": [
        "out.shape , inds.shape"
      ],
      "metadata": {
        "colab": {
          "base_uri": "https://localhost:8080/"
        },
        "id": "iwfZnXErZpPa",
        "outputId": "32c0d948-0b09-43db-ba52-63746da3ecd6"
      },
      "execution_count": null,
      "outputs": [
        {
          "output_type": "execute_result",
          "data": {
            "text/plain": [
              "(torch.Size([5]), torch.Size([1]))"
            ]
          },
          "metadata": {},
          "execution_count": 4
        }
      ]
    },
    {
      "cell_type": "code",
      "source": [
        "inds.squeeze()"
      ],
      "metadata": {
        "colab": {
          "base_uri": "https://localhost:8080/"
        },
        "id": "h0xS4lvfglf7",
        "outputId": "5b981fbf-fa0a-473a-cf71-ad86390edab1"
      },
      "execution_count": null,
      "outputs": [
        {
          "output_type": "execute_result",
          "data": {
            "text/plain": [
              "tensor(2)"
            ]
          },
          "metadata": {},
          "execution_count": 5
        }
      ]
    },
    {
      "cell_type": "code",
      "source": [
        "nn.CrossEntropyLoss(reduction = 'none')(out , inds.squeeze())"
      ],
      "metadata": {
        "colab": {
          "base_uri": "https://localhost:8080/"
        },
        "id": "AJGIa2xAWmkj",
        "outputId": "67607706-8d32-4b2c-a457-4afa551deb54"
      },
      "execution_count": null,
      "outputs": [
        {
          "output_type": "execute_result",
          "data": {
            "text/plain": [
              "tensor(1.3680)"
            ]
          },
          "metadata": {},
          "execution_count": 6
        }
      ]
    },
    {
      "cell_type": "code",
      "source": [
        "torch.exp(out)"
      ],
      "metadata": {
        "colab": {
          "base_uri": "https://localhost:8080/"
        },
        "id": "mmpB85y7gp1z",
        "outputId": "a88e152d-74fc-434a-9607-a91fe5df6a5a"
      },
      "execution_count": null,
      "outputs": [
        {
          "output_type": "execute_result",
          "data": {
            "text/plain": [
              "tensor([2.4656, 0.8609, 2.0292, 0.3817, 2.2323])"
            ]
          },
          "metadata": {},
          "execution_count": 7
        }
      ]
    },
    {
      "cell_type": "code",
      "source": [],
      "metadata": {
        "id": "AmSf-oq4lssY"
      },
      "execution_count": null,
      "outputs": []
    },
    {
      "cell_type": "code",
      "source": [
        "temp = torch.exp(out)\n",
        "-torch.log(temp[2] / temp.sum())"
      ],
      "metadata": {
        "colab": {
          "base_uri": "https://localhost:8080/"
        },
        "id": "R1kkxrswXE0u",
        "outputId": "e03fc6fa-dce4-486e-e2c8-3a9f94456741"
      },
      "execution_count": null,
      "outputs": [
        {
          "output_type": "execute_result",
          "data": {
            "text/plain": [
              "tensor(1.3680)"
            ]
          },
          "metadata": {},
          "execution_count": 8
        }
      ]
    },
    {
      "cell_type": "code",
      "source": [
        "nn.CrossEntropyLoss(reduction = 'none' , ignore_index = 0)(out , inds.squeeze())"
      ],
      "metadata": {
        "colab": {
          "base_uri": "https://localhost:8080/"
        },
        "id": "zIud54ZEcewS",
        "outputId": "844a1d61-b8b5-4b95-a2a5-ea91a4c20074"
      },
      "execution_count": null,
      "outputs": [
        {
          "output_type": "execute_result",
          "data": {
            "text/plain": [
              "tensor(1.3680)"
            ]
          },
          "metadata": {},
          "execution_count": 9
        }
      ]
    },
    {
      "cell_type": "code",
      "source": [
        "#Weights\n",
        "out = torch.randn(9 , 10)\n",
        "inds = torch.multinomial(torch.ones(10) , 9 , replacement = True)"
      ],
      "metadata": {
        "id": "DM-0WX-rgYWa"
      },
      "execution_count": null,
      "outputs": []
    },
    {
      "cell_type": "code",
      "source": [
        "out , inds"
      ],
      "metadata": {
        "colab": {
          "base_uri": "https://localhost:8080/"
        },
        "id": "35LumthRm958",
        "outputId": "38cabea8-0dde-4ced-e952-edc3614f94a1"
      },
      "execution_count": null,
      "outputs": [
        {
          "output_type": "execute_result",
          "data": {
            "text/plain": [
              "(tensor([[ 0.6772,  0.4433, -0.4912,  0.3349, -0.1015,  0.1177, -0.7259,  0.7339,\n",
              "          -0.0702, -1.4057],\n",
              "         [ 0.1097,  0.9219, -0.6161,  1.3091, -0.6149, -0.2227, -1.3919,  0.1936,\n",
              "           2.1101, -0.2448],\n",
              "         [-0.5351,  1.0995, -0.6357, -0.4167, -0.0315,  0.5928,  1.3591,  1.0082,\n",
              "          -0.3696,  0.3843],\n",
              "         [-0.5452, -1.0055,  1.6350, -0.2632,  0.8416,  0.6649,  1.1866, -0.5104,\n",
              "          -1.3072,  0.4845],\n",
              "         [ 0.0605, -1.4296, -2.8557,  0.0629, -0.1547,  0.1555, -0.3099, -1.6775,\n",
              "          -0.6627, -0.4867],\n",
              "         [ 1.0061, -1.4418, -0.1930,  0.0746, -1.2188, -0.9010, -1.4402,  0.2854,\n",
              "          -1.3378,  1.3713],\n",
              "         [ 1.1425, -0.7146, -2.1607,  1.2830, -2.1354,  0.8564,  1.1022, -0.3680,\n",
              "           2.3558,  1.1227],\n",
              "         [-0.3292, -0.8464, -0.4046,  1.4260, -1.6964, -0.0087, -0.4248, -1.6259,\n",
              "          -0.4797,  1.6715],\n",
              "         [-1.5298,  1.4272,  0.5103,  2.0009, -2.9358,  0.3441,  0.5443, -0.5978,\n",
              "           1.5245, -1.0864]]),\n",
              " tensor([1, 3, 5, 3, 4, 2, 8, 1, 2]))"
            ]
          },
          "metadata": {},
          "execution_count": 24
        }
      ]
    },
    {
      "cell_type": "code",
      "source": [
        "wt = torch.ones(10)\n",
        "wt[torch.arange(5)*2] *= 2\n",
        "wt"
      ],
      "metadata": {
        "colab": {
          "base_uri": "https://localhost:8080/"
        },
        "id": "6IV2_Ru9rxuV",
        "outputId": "23c92a7d-8897-40e3-bd77-ab939c286046"
      },
      "execution_count": null,
      "outputs": [
        {
          "output_type": "execute_result",
          "data": {
            "text/plain": [
              "tensor([2., 1., 2., 1., 2., 1., 2., 1., 2., 1.])"
            ]
          },
          "metadata": {},
          "execution_count": 27
        }
      ]
    },
    {
      "cell_type": "code",
      "source": [
        "[torch.arange(5) * 2]"
      ],
      "metadata": {
        "colab": {
          "base_uri": "https://localhost:8080/"
        },
        "id": "7XgcbqvVsGSc",
        "outputId": "60b90859-919e-4e74-be0b-56ccfb91e323"
      },
      "execution_count": null,
      "outputs": [
        {
          "output_type": "execute_result",
          "data": {
            "text/plain": [
              "[tensor([0, 2, 4, 6, 8])]"
            ]
          },
          "metadata": {},
          "execution_count": 26
        }
      ]
    },
    {
      "cell_type": "code",
      "source": [
        "nn.CrossEntropyLoss(reduction = 'none')(out , inds)"
      ],
      "metadata": {
        "colab": {
          "base_uri": "https://localhost:8080/"
        },
        "id": "P7llqD_2m-cJ",
        "outputId": "9bc69cdf-04b3-46f2-b3a8-542d76cf3bdb"
      },
      "execution_count": null,
      "outputs": [
        {
          "output_type": "execute_result",
          "data": {
            "text/plain": [
              "tensor([1.9823, 1.6719, 2.2013, 3.0892, 2.0265, 2.6218, 0.9453, 3.4813, 2.5859])"
            ]
          },
          "metadata": {},
          "execution_count": 28
        }
      ]
    },
    {
      "cell_type": "code",
      "source": [
        "nn.CrossEntropyLoss(weight = wt , reduction = 'none')(out , inds)"
      ],
      "metadata": {
        "colab": {
          "base_uri": "https://localhost:8080/"
        },
        "id": "rStvaOnorYFC",
        "outputId": "8294f8c7-d661-4694-ec1c-46e60024790e"
      },
      "execution_count": null,
      "outputs": [
        {
          "output_type": "execute_result",
          "data": {
            "text/plain": [
              "tensor([1.9823, 1.6719, 2.2013, 3.0892, 4.0529, 5.2436, 1.8905, 3.4813, 5.1718])"
            ]
          },
          "metadata": {},
          "execution_count": 29
        }
      ]
    },
    {
      "cell_type": "code",
      "source": [
        "#Label smoothing"
      ],
      "metadata": {
        "id": "GsgT3CLvsg8x"
      },
      "execution_count": null,
      "outputs": []
    },
    {
      "cell_type": "code",
      "source": [
        "ohe = torch.zeros(10)\n",
        "ohe[2] = 1\n",
        "ohe"
      ],
      "metadata": {
        "colab": {
          "base_uri": "https://localhost:8080/"
        },
        "id": "ODnfQd8khra2",
        "outputId": "769e3192-1d24-47ee-f2b8-2d45831b4856"
      },
      "execution_count": null,
      "outputs": [
        {
          "output_type": "execute_result",
          "data": {
            "text/plain": [
              "tensor([0., 0., 1., 0., 0., 0., 0., 0., 0., 0.])"
            ]
          },
          "metadata": {},
          "execution_count": 31
        }
      ]
    },
    {
      "cell_type": "code",
      "source": [
        "alpha = 0.2"
      ],
      "metadata": {
        "id": "2XXAqb3Jhw68"
      },
      "execution_count": null,
      "outputs": []
    },
    {
      "cell_type": "code",
      "source": [
        "(1 - alpha) * ohe + alpha / 10"
      ],
      "metadata": {
        "colab": {
          "base_uri": "https://localhost:8080/"
        },
        "id": "XIa4_aLZh9VH",
        "outputId": "aad4a01b-1712-47c1-fdf7-7d5884103dbd"
      },
      "execution_count": null,
      "outputs": [
        {
          "output_type": "execute_result",
          "data": {
            "text/plain": [
              "tensor([0.0200, 0.0200, 0.8200, 0.0200, 0.0200, 0.0200, 0.0200, 0.0200, 0.0200,\n",
              "        0.0200])"
            ]
          },
          "metadata": {},
          "execution_count": 33
        }
      ]
    },
    {
      "cell_type": "code",
      "source": [
        "((1 - alpha) * ohe + alpha / 10).sum()"
      ],
      "metadata": {
        "colab": {
          "base_uri": "https://localhost:8080/"
        },
        "id": "eniaCUaLiCOG",
        "outputId": "f295076a-c5be-4015-af37-975f78fe5508"
      },
      "execution_count": null,
      "outputs": [
        {
          "output_type": "execute_result",
          "data": {
            "text/plain": [
              "tensor(1.0000)"
            ]
          },
          "metadata": {},
          "execution_count": 34
        }
      ]
    },
    {
      "cell_type": "code",
      "source": [
        "nn.CrossEntropyLoss(label_smoothing = 0.1 , reduction = 'none')(out , inds)"
      ],
      "metadata": {
        "colab": {
          "base_uri": "https://localhost:8080/"
        },
        "id": "aRq7jo43iGjR",
        "outputId": "4f8d4222-d70e-4c71-a75c-d8e7b096ba2c"
      },
      "execution_count": null,
      "outputs": [
        {
          "output_type": "execute_result",
          "data": {
            "text/plain": [
              "tensor([2.0315, 1.7873, 2.2360, 3.0511, 2.0840, 2.6405, 1.1560, 3.4239, 2.6349])"
            ]
          },
          "metadata": {},
          "execution_count": 35
        }
      ]
    },
    {
      "cell_type": "code",
      "source": [],
      "metadata": {
        "id": "7geHjClujPFb"
      },
      "execution_count": null,
      "outputs": []
    }
  ]
}