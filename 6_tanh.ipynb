{
  "nbformat": 4,
  "nbformat_minor": 0,
  "metadata": {
    "colab": {
      "provenance": [],
      "authorship_tag": "ABX9TyP0dofyOtoMXO/JX2WW/oMV",
      "include_colab_link": true
    },
    "kernelspec": {
      "name": "python3",
      "display_name": "Python 3"
    },
    "language_info": {
      "name": "python"
    }
  },
  "cells": [
    {
      "cell_type": "markdown",
      "metadata": {
        "id": "view-in-github",
        "colab_type": "text"
      },
      "source": [
        "<a href=\"https://colab.research.google.com/github/DatumLearning/PyTorch_functions/blob/main/6_tanh.ipynb\" target=\"_parent\"><img src=\"https://colab.research.google.com/assets/colab-badge.svg\" alt=\"Open In Colab\"/></a>"
      ]
    },
    {
      "cell_type": "code",
      "execution_count": null,
      "metadata": {
        "id": "9XMtOnHceTTa"
      },
      "outputs": [],
      "source": [
        "import torch\n",
        "import torch.nn as nn"
      ]
    },
    {
      "cell_type": "code",
      "source": [
        "rand = torch.randn(10)"
      ],
      "metadata": {
        "id": "vq_KeeXPeaBB"
      },
      "execution_count": null,
      "outputs": []
    },
    {
      "cell_type": "code",
      "source": [
        "rand"
      ],
      "metadata": {
        "colab": {
          "base_uri": "https://localhost:8080/"
        },
        "id": "FqrbekKRebJB",
        "outputId": "c60b375a-03dc-4485-d32d-5ad67c98ee35"
      },
      "execution_count": null,
      "outputs": [
        {
          "output_type": "execute_result",
          "data": {
            "text/plain": [
              "tensor([ 1.4298, -1.1074,  0.2768, -0.0492, -0.0194, -0.1840,  1.3149, -0.4361,\n",
              "        -0.0043, -0.1168])"
            ]
          },
          "metadata": {},
          "execution_count": 3
        }
      ]
    },
    {
      "cell_type": "code",
      "source": [
        "nn.Tanh()(rand)"
      ],
      "metadata": {
        "colab": {
          "base_uri": "https://localhost:8080/"
        },
        "id": "2YiP_Uyuecbd",
        "outputId": "71eb7533-0c2c-4ecc-ecd1-5ee64374148d"
      },
      "execution_count": null,
      "outputs": [
        {
          "output_type": "execute_result",
          "data": {
            "text/plain": [
              "tensor([ 0.8916, -0.8031,  0.2700, -0.0491, -0.0194, -0.1819,  0.8655, -0.4104,\n",
              "        -0.0043, -0.1163])"
            ]
          },
          "metadata": {},
          "execution_count": 4
        }
      ]
    },
    {
      "cell_type": "code",
      "source": [
        "def custom_tanh(x):\n",
        "  num = torch.exp(x) - torch.exp(-x)\n",
        "  dem = torch.exp(x) + torch.exp(-x)\n",
        "  return num / dem"
      ],
      "metadata": {
        "id": "P3dv0Tbfeq0s"
      },
      "execution_count": null,
      "outputs": []
    },
    {
      "cell_type": "code",
      "source": [
        "custom_tanh(rand)"
      ],
      "metadata": {
        "colab": {
          "base_uri": "https://localhost:8080/"
        },
        "id": "CRqSbQuye1vc",
        "outputId": "6d59a8aa-48d0-4fb2-bb84-b8ed80c9f375"
      },
      "execution_count": null,
      "outputs": [
        {
          "output_type": "execute_result",
          "data": {
            "text/plain": [
              "tensor([ 0.8916, -0.8031,  0.2700, -0.0491, -0.0194, -0.1819,  0.8655, -0.4104,\n",
              "        -0.0043, -0.1163])"
            ]
          },
          "metadata": {},
          "execution_count": 6
        }
      ]
    },
    {
      "cell_type": "code",
      "source": [],
      "metadata": {
        "id": "WBHe1j4Be7Js"
      },
      "execution_count": null,
      "outputs": []
    }
  ]
}