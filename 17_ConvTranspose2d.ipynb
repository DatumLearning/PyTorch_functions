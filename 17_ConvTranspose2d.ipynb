{
  "cells": [
    {
      "cell_type": "markdown",
      "metadata": {
        "id": "view-in-github",
        "colab_type": "text"
      },
      "source": [
        "<a href=\"https://colab.research.google.com/github/DatumLearning/PyTorch_functions/blob/main/17_ConvTranspose2d.ipynb\" target=\"_parent\"><img src=\"https://colab.research.google.com/assets/colab-badge.svg\" alt=\"Open In Colab\"/></a>"
      ]
    },
    {
      "cell_type": "code",
      "execution_count": null,
      "metadata": {
        "id": "yUUU7GHTdQut"
      },
      "outputs": [],
      "source": [
        "import torch\n",
        "import torch.nn as nn"
      ]
    },
    {
      "cell_type": "code",
      "execution_count": null,
      "metadata": {
        "id": "Dvojm9vbznZO"
      },
      "outputs": [],
      "source": [
        "inp = torch.Tensor([[[[2 , 3 , 1] ,\n",
        "                      [0 , 4 , 2] ,\n",
        "                      [1 , 6 , 7]]]])\n",
        "\n",
        "kernel = torch.Tensor([[[[1 , 2] ,\n",
        "                         [3 , 4]]]])"
      ]
    },
    {
      "cell_type": "code",
      "execution_count": null,
      "metadata": {
        "id": "OXSo5Wyf2Iir"
      },
      "outputs": [],
      "source": [
        "padding = 0\n",
        "stride = 1\n",
        "out1 = nn.functional.conv_transpose2d(inp, kernel, stride=stride, padding=padding)"
      ]
    },
    {
      "cell_type": "code",
      "execution_count": null,
      "metadata": {
        "colab": {
          "base_uri": "https://localhost:8080/"
        },
        "id": "M1PbngLJ2P1J",
        "outputId": "06343ce4-cb31-41c1-e297-39b60c642b07"
      },
      "outputs": [
        {
          "output_type": "execute_result",
          "data": {
            "text/plain": [
              "tensor([[[[ 2.,  7.,  7.,  2.],\n",
              "          [ 6., 21., 25.,  8.],\n",
              "          [ 1., 20., 41., 22.],\n",
              "          [ 3., 22., 45., 28.]]]])"
            ]
          },
          "metadata": {},
          "execution_count": 19
        }
      ],
      "source": [
        "out1"
      ]
    },
    {
      "cell_type": "code",
      "execution_count": null,
      "metadata": {
        "id": "TTuIYWCE2QdG"
      },
      "outputs": [],
      "source": [
        "padding = 0\n",
        "stride = 2\n",
        "out2 = nn.functional.conv_transpose2d(inp, kernel, stride=stride, padding=padding)"
      ]
    },
    {
      "cell_type": "code",
      "execution_count": null,
      "metadata": {
        "colab": {
          "base_uri": "https://localhost:8080/"
        },
        "id": "IMwVqyCd2uDH",
        "outputId": "693b88c4-3abc-4ec8-b2ab-f5cdce5f3619"
      },
      "outputs": [
        {
          "output_type": "execute_result",
          "data": {
            "text/plain": [
              "tensor([[[[ 2.,  4.,  3.,  6.,  1.,  2.],\n",
              "          [ 6.,  8.,  9., 12.,  3.,  4.],\n",
              "          [ 0.,  0.,  4.,  8.,  2.,  4.],\n",
              "          [ 0.,  0., 12., 16.,  6.,  8.],\n",
              "          [ 1.,  2.,  6., 12.,  7., 14.],\n",
              "          [ 3.,  4., 18., 24., 21., 28.]]]])"
            ]
          },
          "metadata": {},
          "execution_count": 21
        }
      ],
      "source": [
        "out2"
      ]
    },
    {
      "cell_type": "code",
      "execution_count": null,
      "metadata": {
        "id": "iiOP2aJq2uno"
      },
      "outputs": [],
      "source": [
        "padding = 2\n",
        "stride = 2\n",
        "out3 = nn.functional.conv_transpose2d(inp, kernel, stride=stride, padding=padding)"
      ]
    },
    {
      "cell_type": "code",
      "execution_count": null,
      "metadata": {
        "colab": {
          "base_uri": "https://localhost:8080/"
        },
        "id": "5p4oUK24Arg7",
        "outputId": "416c41be-778a-48ec-dac7-753b5da4319f"
      },
      "outputs": [
        {
          "output_type": "execute_result",
          "data": {
            "text/plain": [
              "tensor([[[[ 4.,  8.],\n",
              "          [12., 16.]]]])"
            ]
          },
          "metadata": {},
          "execution_count": 25
        }
      ],
      "source": [
        "out3"
      ]
    },
    {
      "cell_type": "code",
      "execution_count": null,
      "metadata": {
        "id": "Vo6PElfWAr_-"
      },
      "outputs": [],
      "source": [
        "padding = 0\n",
        "output_padding = 1\n",
        "stride = 2\n",
        "out4 = nn.functional.conv_transpose2d(inp, kernel, stride=stride, padding=padding , output_padding = output_padding)"
      ]
    },
    {
      "cell_type": "code",
      "execution_count": null,
      "metadata": {
        "colab": {
          "base_uri": "https://localhost:8080/"
        },
        "id": "SW3XIQ9cBBSF",
        "outputId": "f734985a-0d11-4835-fd61-47f573d58efe"
      },
      "outputs": [
        {
          "output_type": "execute_result",
          "data": {
            "text/plain": [
              "tensor([[[[ 2.,  4.,  3.,  6.,  1.,  2.,  0.],\n",
              "          [ 6.,  8.,  9., 12.,  3.,  4.,  0.],\n",
              "          [ 0.,  0.,  4.,  8.,  2.,  4.,  0.],\n",
              "          [ 0.,  0., 12., 16.,  6.,  8.,  0.],\n",
              "          [ 1.,  2.,  6., 12.,  7., 14.,  0.],\n",
              "          [ 3.,  4., 18., 24., 21., 28.,  0.],\n",
              "          [ 0.,  0.,  0.,  0.,  0.,  0.,  0.]]]])"
            ]
          },
          "metadata": {},
          "execution_count": 27
        }
      ],
      "source": [
        "out4"
      ]
    },
    {
      "cell_type": "code",
      "execution_count": null,
      "metadata": {
        "id": "L7K18DH2BB16"
      },
      "outputs": [],
      "source": [
        "padding = 0\n",
        "stride = 2\n",
        "dilation = 1\n",
        "out5 = nn.functional.conv_transpose2d(inp, kernel, stride=stride, padding=padding , dilation = dilation)"
      ]
    },
    {
      "cell_type": "code",
      "execution_count": null,
      "metadata": {
        "colab": {
          "base_uri": "https://localhost:8080/"
        },
        "id": "wK19Yj_NE0AR",
        "outputId": "cdb06396-110f-4ca1-cb1e-54b9a548b5d9"
      },
      "outputs": [
        {
          "output_type": "execute_result",
          "data": {
            "text/plain": [
              "tensor([[[[ 2.,  4.,  3.,  6.,  1.,  2.],\n",
              "          [ 6.,  8.,  9., 12.,  3.,  4.],\n",
              "          [ 0.,  0.,  4.,  8.,  2.,  4.],\n",
              "          [ 0.,  0., 12., 16.,  6.,  8.],\n",
              "          [ 1.,  2.,  6., 12.,  7., 14.],\n",
              "          [ 3.,  4., 18., 24., 21., 28.]]]])"
            ]
          },
          "metadata": {},
          "execution_count": 32
        }
      ],
      "source": [
        "out5"
      ]
    },
    {
      "cell_type": "code",
      "execution_count": null,
      "metadata": {
        "id": "r_hAMGYwE2KK"
      },
      "outputs": [],
      "source": []
    }
  ],
  "metadata": {
    "colab": {
      "provenance": [],
      "authorship_tag": "ABX9TyMoQsSu8cvqahBNvCwS7tY+",
      "include_colab_link": true
    },
    "kernelspec": {
      "display_name": "Python 3",
      "name": "python3"
    },
    "language_info": {
      "name": "python"
    }
  },
  "nbformat": 4,
  "nbformat_minor": 0
}