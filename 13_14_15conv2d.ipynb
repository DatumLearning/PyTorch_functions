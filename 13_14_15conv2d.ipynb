{
  "nbformat": 4,
  "nbformat_minor": 0,
  "metadata": {
    "colab": {
      "provenance": [],
      "authorship_tag": "ABX9TyNXDCHF8fvcU8F44UXcEp4O",
      "include_colab_link": true
    },
    "kernelspec": {
      "name": "python3",
      "display_name": "Python 3"
    },
    "language_info": {
      "name": "python"
    }
  },
  "cells": [
    {
      "cell_type": "markdown",
      "metadata": {
        "id": "view-in-github",
        "colab_type": "text"
      },
      "source": [
        "<a href=\"https://colab.research.google.com/github/DatumLearning/PyTorch_functions/blob/main/13_14_15conv2d.ipynb\" target=\"_parent\"><img src=\"https://colab.research.google.com/assets/colab-badge.svg\" alt=\"Open In Colab\"/></a>"
      ]
    },
    {
      "cell_type": "code",
      "execution_count": null,
      "metadata": {
        "id": "vT5-CeISyqDh"
      },
      "outputs": [],
      "source": [
        "import torch\n",
        "import torch.nn as nn"
      ]
    },
    {
      "cell_type": "markdown",
      "source": [
        "Zero padding"
      ],
      "metadata": {
        "id": "WgleJxo7P4dv"
      }
    },
    {
      "cell_type": "code",
      "source": [
        "img1 = torch.arange(1 , 10).reshape(1 , 1 , 3 , 3)"
      ],
      "metadata": {
        "id": "HfBY6bTzytvz"
      },
      "execution_count": null,
      "outputs": []
    },
    {
      "cell_type": "code",
      "source": [
        "img1"
      ],
      "metadata": {
        "colab": {
          "base_uri": "https://localhost:8080/"
        },
        "id": "3DJZS31ds99h",
        "outputId": "e5ff3640-813f-4720-9ad2-2adc612a88aa"
      },
      "execution_count": null,
      "outputs": [
        {
          "output_type": "execute_result",
          "data": {
            "text/plain": [
              "tensor([[[[1, 2, 3],\n",
              "          [4, 5, 6],\n",
              "          [7, 8, 9]]]])"
            ]
          },
          "metadata": {},
          "execution_count": 3
        }
      ]
    },
    {
      "cell_type": "code",
      "source": [
        "nn.functional.pad(img1 , (1 , 1 , 1 , 1) , 'constant' , 0)"
      ],
      "metadata": {
        "colab": {
          "base_uri": "https://localhost:8080/"
        },
        "id": "jCcaeh5x09-w",
        "outputId": "5923916f-7030-40f1-c49e-2568bfe7e5ca"
      },
      "execution_count": null,
      "outputs": [
        {
          "output_type": "execute_result",
          "data": {
            "text/plain": [
              "tensor([[[[0, 0, 0, 0, 0],\n",
              "          [0, 1, 2, 3, 0],\n",
              "          [0, 4, 5, 6, 0],\n",
              "          [0, 7, 8, 9, 0],\n",
              "          [0, 0, 0, 0, 0]]]])"
            ]
          },
          "metadata": {},
          "execution_count": 4
        }
      ]
    },
    {
      "cell_type": "code",
      "source": [
        "nn.functional.pad(img1 , (1 , 1 , 1 , 1) , 'constant' , 0).shape"
      ],
      "metadata": {
        "colab": {
          "base_uri": "https://localhost:8080/"
        },
        "id": "8VDl0H5Q2i42",
        "outputId": "c6116988-7ea6-43f1-f10b-d8f5591259af"
      },
      "execution_count": null,
      "outputs": [
        {
          "output_type": "execute_result",
          "data": {
            "text/plain": [
              "torch.Size([1, 1, 5, 5])"
            ]
          },
          "metadata": {},
          "execution_count": 5
        }
      ]
    },
    {
      "cell_type": "markdown",
      "source": [
        "Reflective Padding"
      ],
      "metadata": {
        "id": "UMpLkBv7P8A3"
      }
    },
    {
      "cell_type": "code",
      "source": [
        "img2 = torch.arange(1 , 10).reshape(1 , 1 , 3 , 3)"
      ],
      "metadata": {
        "id": "MSdii1fW25w6"
      },
      "execution_count": null,
      "outputs": []
    },
    {
      "cell_type": "code",
      "source": [
        "img2"
      ],
      "metadata": {
        "id": "dptkK0AouDs8",
        "outputId": "2b3c6bb9-9dee-4f4e-a2ee-dd8ba2d01c84",
        "colab": {
          "base_uri": "https://localhost:8080/"
        }
      },
      "execution_count": null,
      "outputs": [
        {
          "output_type": "execute_result",
          "data": {
            "text/plain": [
              "tensor([[[[1, 2, 3],\n",
              "          [4, 5, 6],\n",
              "          [7, 8, 9]]]])"
            ]
          },
          "metadata": {},
          "execution_count": 7
        }
      ]
    },
    {
      "cell_type": "code",
      "source": [
        "nn.functional.pad(img2 , (2 , 2 , 2 , 2) , 'reflect')"
      ],
      "metadata": {
        "colab": {
          "base_uri": "https://localhost:8080/"
        },
        "id": "IxmO4LxZQAN8",
        "outputId": "b16ba6aa-0e11-48ce-ebfe-e7b99a10598d"
      },
      "execution_count": null,
      "outputs": [
        {
          "output_type": "execute_result",
          "data": {
            "text/plain": [
              "tensor([[[[9, 8, 7, 8, 9, 8, 7],\n",
              "          [6, 5, 4, 5, 6, 5, 4],\n",
              "          [3, 2, 1, 2, 3, 2, 1],\n",
              "          [6, 5, 4, 5, 6, 5, 4],\n",
              "          [9, 8, 7, 8, 9, 8, 7],\n",
              "          [6, 5, 4, 5, 6, 5, 4],\n",
              "          [3, 2, 1, 2, 3, 2, 1]]]])"
            ]
          },
          "metadata": {},
          "execution_count": 8
        }
      ]
    },
    {
      "cell_type": "code",
      "source": [
        "nn.functional.pad(img2 , (2 , 2 , 2 , 2) , 'reflect').shape"
      ],
      "metadata": {
        "colab": {
          "base_uri": "https://localhost:8080/"
        },
        "id": "-9O05ZpIQnHu",
        "outputId": "999d4209-f50c-47b1-86c9-70283baf684e"
      },
      "execution_count": null,
      "outputs": [
        {
          "output_type": "execute_result",
          "data": {
            "text/plain": [
              "torch.Size([1, 1, 7, 7])"
            ]
          },
          "metadata": {},
          "execution_count": 9
        }
      ]
    },
    {
      "cell_type": "markdown",
      "source": [
        "Replication padding"
      ],
      "metadata": {
        "id": "VBz0HkAPTgZX"
      }
    },
    {
      "cell_type": "code",
      "source": [
        "img3 = torch.arange(1 , 10).reshape(1 , 1 , 3 , 3)"
      ],
      "metadata": {
        "id": "jbh7FtPpQ_bU"
      },
      "execution_count": null,
      "outputs": []
    },
    {
      "cell_type": "code",
      "source": [
        "nn.functional.pad(img3 , (2 , 2 , 2 , 2) , 'replicate')"
      ],
      "metadata": {
        "colab": {
          "base_uri": "https://localhost:8080/"
        },
        "id": "oWPQDOV6TkL3",
        "outputId": "12af959e-c740-46d3-c215-d2a9cac91bef"
      },
      "execution_count": null,
      "outputs": [
        {
          "output_type": "execute_result",
          "data": {
            "text/plain": [
              "tensor([[[[1, 1, 1, 2, 3, 3, 3],\n",
              "          [1, 1, 1, 2, 3, 3, 3],\n",
              "          [1, 1, 1, 2, 3, 3, 3],\n",
              "          [4, 4, 4, 5, 6, 6, 6],\n",
              "          [7, 7, 7, 8, 9, 9, 9],\n",
              "          [7, 7, 7, 8, 9, 9, 9],\n",
              "          [7, 7, 7, 8, 9, 9, 9]]]])"
            ]
          },
          "metadata": {},
          "execution_count": 11
        }
      ]
    },
    {
      "cell_type": "code",
      "source": [
        "nn.functional.pad(img3 , (2 , 2 , 2 , 2) , 'replicate').shape"
      ],
      "metadata": {
        "colab": {
          "base_uri": "https://localhost:8080/"
        },
        "id": "nQzLkQ7yTrem",
        "outputId": "64c806f5-3631-472f-f088-be8f528b3a90"
      },
      "execution_count": null,
      "outputs": [
        {
          "output_type": "execute_result",
          "data": {
            "text/plain": [
              "torch.Size([1, 1, 7, 7])"
            ]
          },
          "metadata": {},
          "execution_count": 12
        }
      ]
    },
    {
      "cell_type": "markdown",
      "source": [
        "Circular padding"
      ],
      "metadata": {
        "id": "TiBLIa_rXqLj"
      }
    },
    {
      "cell_type": "code",
      "source": [
        "img4 = torch.arange(1 , 10).reshape(1 , 1 , 3 , 3)"
      ],
      "metadata": {
        "id": "wSwzehysXoyj"
      },
      "execution_count": null,
      "outputs": []
    },
    {
      "cell_type": "code",
      "source": [
        "nn.functional.pad(img3 , (2 , 2 , 2 , 2) , 'circular')"
      ],
      "metadata": {
        "colab": {
          "base_uri": "https://localhost:8080/"
        },
        "id": "WFuXx5gKYb3a",
        "outputId": "03d50a02-699e-4d97-c23f-13f996c518d2"
      },
      "execution_count": null,
      "outputs": [
        {
          "output_type": "execute_result",
          "data": {
            "text/plain": [
              "tensor([[[[5, 6, 4, 5, 6, 4, 5],\n",
              "          [8, 9, 7, 8, 9, 7, 8],\n",
              "          [2, 3, 1, 2, 3, 1, 2],\n",
              "          [5, 6, 4, 5, 6, 4, 5],\n",
              "          [8, 9, 7, 8, 9, 7, 8],\n",
              "          [2, 3, 1, 2, 3, 1, 2],\n",
              "          [5, 6, 4, 5, 6, 4, 5]]]])"
            ]
          },
          "metadata": {},
          "execution_count": 14
        }
      ]
    },
    {
      "cell_type": "code",
      "source": [
        "nn.functional.pad(img3 , (2 , 2 , 2 , 2) , 'circular').shape"
      ],
      "metadata": {
        "colab": {
          "base_uri": "https://localhost:8080/"
        },
        "id": "9_bi7MVjYlWB",
        "outputId": "2ac81889-75cc-42d4-e985-d89c5c5d2d35"
      },
      "execution_count": null,
      "outputs": [
        {
          "output_type": "execute_result",
          "data": {
            "text/plain": [
              "torch.Size([1, 1, 7, 7])"
            ]
          },
          "metadata": {},
          "execution_count": 15
        }
      ]
    },
    {
      "cell_type": "markdown",
      "source": [
        "Convolution operation"
      ],
      "metadata": {
        "id": "iLynaKQsY6_p"
      }
    },
    {
      "cell_type": "code",
      "source": [
        "m = nn.Conv2d(16, 33, (3, 5), stride=(2, 1), padding=(4, 2), dilation=(3, 1))"
      ],
      "metadata": {
        "id": "zKoUm0LMYqP8"
      },
      "execution_count": null,
      "outputs": []
    },
    {
      "cell_type": "code",
      "source": [
        "inp = torch.randn(20, 16, 50, 100)"
      ],
      "metadata": {
        "id": "hkb1zQpVZceR"
      },
      "execution_count": null,
      "outputs": []
    },
    {
      "cell_type": "code",
      "source": [
        "output = m(inp)"
      ],
      "metadata": {
        "id": "xvbcLFTuZeu6"
      },
      "execution_count": null,
      "outputs": []
    },
    {
      "cell_type": "code",
      "source": [
        "output.shape"
      ],
      "metadata": {
        "colab": {
          "base_uri": "https://localhost:8080/"
        },
        "id": "K3NC2KJ0Zg8l",
        "outputId": "ff2a5200-7182-4c8f-bb42-e2040e321fba"
      },
      "execution_count": null,
      "outputs": [
        {
          "output_type": "execute_result",
          "data": {
            "text/plain": [
              "torch.Size([20, 33, 26, 100])"
            ]
          },
          "metadata": {},
          "execution_count": 19
        }
      ]
    },
    {
      "cell_type": "code",
      "source": [
        "((50 + 2 * 4 - 3 * (3 - 1) - 1) / 2) + 1"
      ],
      "metadata": {
        "colab": {
          "base_uri": "https://localhost:8080/"
        },
        "id": "_uU04NuhZqSa",
        "outputId": "7808c668-d550-4abc-b2df-20d1855ad7b5"
      },
      "execution_count": null,
      "outputs": [
        {
          "output_type": "execute_result",
          "data": {
            "text/plain": [
              "26.5"
            ]
          },
          "metadata": {},
          "execution_count": 20
        }
      ]
    },
    {
      "cell_type": "code",
      "source": [
        "((100 + 2 * 2 - 1 * (5 - 1) - 1) / 1) + 1"
      ],
      "metadata": {
        "colab": {
          "base_uri": "https://localhost:8080/"
        },
        "id": "00JAiLUkaJ8r",
        "outputId": "0a5764de-356d-451c-bfe9-1d9e788e2032"
      },
      "execution_count": null,
      "outputs": [
        {
          "output_type": "execute_result",
          "data": {
            "text/plain": [
              "100.0"
            ]
          },
          "metadata": {},
          "execution_count": 21
        }
      ]
    },
    {
      "cell_type": "code",
      "source": [],
      "metadata": {
        "id": "NF-LpCJhaYPU"
      },
      "execution_count": null,
      "outputs": []
    }
  ]
}