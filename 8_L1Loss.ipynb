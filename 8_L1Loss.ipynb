{
  "nbformat": 4,
  "nbformat_minor": 0,
  "metadata": {
    "colab": {
      "provenance": [],
      "authorship_tag": "ABX9TyOg0IFw/80GY+vDILFyaZoZ",
      "include_colab_link": true
    },
    "kernelspec": {
      "name": "python3",
      "display_name": "Python 3"
    },
    "language_info": {
      "name": "python"
    }
  },
  "cells": [
    {
      "cell_type": "markdown",
      "metadata": {
        "id": "view-in-github",
        "colab_type": "text"
      },
      "source": [
        "<a href=\"https://colab.research.google.com/github/DatumLearning/PyTorch_functions/blob/main/8_L1Loss.ipynb\" target=\"_parent\"><img src=\"https://colab.research.google.com/assets/colab-badge.svg\" alt=\"Open In Colab\"/></a>"
      ]
    },
    {
      "cell_type": "code",
      "execution_count": null,
      "metadata": {
        "id": "rECc37Lqh280"
      },
      "outputs": [],
      "source": [
        "import torch\n",
        "import torch.nn as nn"
      ]
    },
    {
      "cell_type": "code",
      "source": [
        "out = torch.randn(10)\n",
        "target = torch.randn(10)"
      ],
      "metadata": {
        "id": "DOvrd0HtkfhX"
      },
      "execution_count": null,
      "outputs": []
    },
    {
      "cell_type": "code",
      "source": [
        "out , target"
      ],
      "metadata": {
        "colab": {
          "base_uri": "https://localhost:8080/"
        },
        "id": "uaQRNSyalnuX",
        "outputId": "5e2ddbfd-0c38-4c02-afbb-93e3fdfd9917"
      },
      "execution_count": null,
      "outputs": [
        {
          "output_type": "execute_result",
          "data": {
            "text/plain": [
              "(tensor([-0.9781, -1.3906, -0.0423, -0.4269,  0.9083, -1.5137,  1.0014,  0.4989,\n",
              "          0.1595, -0.4994]),\n",
              " tensor([-1.8195,  0.5380,  0.7052, -0.1487, -0.8891,  1.1160,  0.6511,  0.7737,\n",
              "          0.5940,  0.8579]))"
            ]
          },
          "metadata": {},
          "execution_count": 12
        }
      ]
    },
    {
      "cell_type": "code",
      "source": [
        "nn.L1Loss(reduction = 'none')(out , target)"
      ],
      "metadata": {
        "colab": {
          "base_uri": "https://localhost:8080/"
        },
        "id": "VXE4lqBLlpBZ",
        "outputId": "71e2dfdf-bb62-4c1f-cda8-e7bbef24d19c"
      },
      "execution_count": null,
      "outputs": [
        {
          "output_type": "execute_result",
          "data": {
            "text/plain": [
              "tensor([0.8415, 1.9287, 0.7475, 0.2783, 1.7975, 2.6297, 0.3503, 0.2749, 0.4345,\n",
              "        1.3573])"
            ]
          },
          "metadata": {},
          "execution_count": 13
        }
      ]
    },
    {
      "cell_type": "code",
      "source": [
        "torch.abs(out - target)"
      ],
      "metadata": {
        "colab": {
          "base_uri": "https://localhost:8080/"
        },
        "id": "DS846KUAGQmO",
        "outputId": "738c0d5c-5cf1-4a9d-b048-43d7f1937553"
      },
      "execution_count": null,
      "outputs": [
        {
          "output_type": "execute_result",
          "data": {
            "text/plain": [
              "tensor([0.8415, 1.9287, 0.7475, 0.2783, 1.7975, 2.6297, 0.3503, 0.2749, 0.4345,\n",
              "        1.3573])"
            ]
          },
          "metadata": {},
          "execution_count": 14
        }
      ]
    },
    {
      "cell_type": "code",
      "source": [
        "nn.L1Loss(reduction = 'sum')(out , target)"
      ],
      "metadata": {
        "colab": {
          "base_uri": "https://localhost:8080/"
        },
        "id": "wUFT1NK4nCEJ",
        "outputId": "aeaadb52-4682-402d-bd8b-c0245aa1f31d"
      },
      "execution_count": null,
      "outputs": [
        {
          "output_type": "execute_result",
          "data": {
            "text/plain": [
              "tensor(7.8717)"
            ]
          },
          "metadata": {},
          "execution_count": 5
        }
      ]
    },
    {
      "cell_type": "code",
      "source": [
        "torch.abs(out - target).sum()"
      ],
      "metadata": {
        "id": "aCQcbTxBGa_3",
        "outputId": "bbeae653-540b-49f7-cf36-6ff5f6e39e35",
        "colab": {
          "base_uri": "https://localhost:8080/"
        }
      },
      "execution_count": null,
      "outputs": [
        {
          "output_type": "execute_result",
          "data": {
            "text/plain": [
              "tensor(7.8717)"
            ]
          },
          "metadata": {},
          "execution_count": 8
        }
      ]
    },
    {
      "cell_type": "code",
      "source": [
        "nn.L1Loss(reduction = 'mean')(out , target)"
      ],
      "metadata": {
        "colab": {
          "base_uri": "https://localhost:8080/"
        },
        "id": "1pzcf3s2mAor",
        "outputId": "a719822c-938f-4df6-a7de-f2c6d57515a2"
      },
      "execution_count": null,
      "outputs": [
        {
          "output_type": "execute_result",
          "data": {
            "text/plain": [
              "tensor(0.7872)"
            ]
          },
          "metadata": {},
          "execution_count": 6
        }
      ]
    },
    {
      "cell_type": "code",
      "source": [
        "torch.abs(out - target).mean()"
      ],
      "metadata": {
        "id": "bVQNSfDnmGF0",
        "colab": {
          "base_uri": "https://localhost:8080/"
        },
        "outputId": "55bf3d55-02ab-4155-e691-8e703279f969"
      },
      "execution_count": null,
      "outputs": [
        {
          "output_type": "execute_result",
          "data": {
            "text/plain": [
              "tensor(0.7872)"
            ]
          },
          "metadata": {},
          "execution_count": 9
        }
      ]
    },
    {
      "cell_type": "code",
      "source": [],
      "metadata": {
        "id": "cWkzkvTyGfqx"
      },
      "execution_count": null,
      "outputs": []
    }
  ]
}