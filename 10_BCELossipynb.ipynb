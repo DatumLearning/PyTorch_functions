{
  "nbformat": 4,
  "nbformat_minor": 0,
  "metadata": {
    "colab": {
      "provenance": [],
      "authorship_tag": "ABX9TyMYIm2RefagZa0jkiIcpHo+",
      "include_colab_link": true
    },
    "kernelspec": {
      "name": "python3",
      "display_name": "Python 3"
    },
    "language_info": {
      "name": "python"
    }
  },
  "cells": [
    {
      "cell_type": "markdown",
      "metadata": {
        "id": "view-in-github",
        "colab_type": "text"
      },
      "source": [
        "<a href=\"https://colab.research.google.com/github/DatumLearning/PyTorch_functions/blob/main/10_BCELossipynb.ipynb\" target=\"_parent\"><img src=\"https://colab.research.google.com/assets/colab-badge.svg\" alt=\"Open In Colab\"/></a>"
      ]
    },
    {
      "cell_type": "code",
      "execution_count": null,
      "metadata": {
        "id": "Jn38oqHqeAke"
      },
      "outputs": [],
      "source": [
        "import torch\n",
        "import torch.nn as nn"
      ]
    },
    {
      "cell_type": "code",
      "source": [
        "out = torch.randn(10)\n",
        "real = torch.rand(10)"
      ],
      "metadata": {
        "id": "piT7bcXYeGW8"
      },
      "execution_count": null,
      "outputs": []
    },
    {
      "cell_type": "code",
      "source": [
        "out , real"
      ],
      "metadata": {
        "colab": {
          "base_uri": "https://localhost:8080/"
        },
        "id": "hlgNrLLbPwpE",
        "outputId": "1fb387c1-071e-4741-eca5-64beab46a593"
      },
      "execution_count": null,
      "outputs": [
        {
          "output_type": "execute_result",
          "data": {
            "text/plain": [
              "(tensor([ 0.1463,  0.4132, -0.5091,  1.4223, -1.4767,  0.0546, -1.6801,  1.1652,\n",
              "          0.1132, -0.1578]),\n",
              " tensor([0.1628, 0.5597, 0.5420, 0.3560, 0.8572, 0.9082, 0.1062, 0.8625, 0.2451,\n",
              "         0.5024]))"
            ]
          },
          "metadata": {},
          "execution_count": 13
        }
      ]
    },
    {
      "cell_type": "code",
      "source": [
        "act_out = nn.Sigmoid()(out)\n",
        "nn.BCELoss(reduction = 'none')(act_out , real)"
      ],
      "metadata": {
        "colab": {
          "base_uri": "https://localhost:8080/"
        },
        "id": "Z0WO-c0lPxl3",
        "outputId": "0bde4d90-d999-4945-ff9c-e72196dffa03"
      },
      "execution_count": null,
      "outputs": [
        {
          "output_type": "execute_result",
          "data": {
            "text/plain": [
              "tensor([0.7451, 0.6897, 0.7466, 1.1320, 1.4716, 0.6712, 0.3492, 0.4317, 0.7236,\n",
              "        0.6966])"
            ]
          },
          "metadata": {},
          "execution_count": 15
        }
      ]
    },
    {
      "cell_type": "code",
      "source": [
        "(-(real * torch.log(act_out) + (1 - real) * torch.log(1 - act_out)))"
      ],
      "metadata": {
        "colab": {
          "base_uri": "https://localhost:8080/"
        },
        "id": "f-K89MElP9qE",
        "outputId": "f17e416f-2ad4-47be-9041-918b63fd2184"
      },
      "execution_count": null,
      "outputs": [
        {
          "output_type": "execute_result",
          "data": {
            "text/plain": [
              "tensor([0.7451, 0.6897, 0.7466, 1.1320, 1.4716, 0.6712, 0.3492, 0.4317, 0.7236,\n",
              "        0.6966])"
            ]
          },
          "metadata": {},
          "execution_count": 16
        }
      ]
    },
    {
      "cell_type": "code",
      "source": [
        "act_out = nn.Sigmoid()(out)\n",
        "nn.BCELoss(reduction = 'sum')(act_out , real)"
      ],
      "metadata": {
        "colab": {
          "base_uri": "https://localhost:8080/"
        },
        "id": "uAFqGtCNQvNq",
        "outputId": "ab2b044d-1f45-4a13-b33e-052130696679"
      },
      "execution_count": null,
      "outputs": [
        {
          "output_type": "execute_result",
          "data": {
            "text/plain": [
              "tensor(8.5863)"
            ]
          },
          "metadata": {},
          "execution_count": 6
        }
      ]
    },
    {
      "cell_type": "code",
      "source": [
        "(-(real * torch.log(act_out) + (1 - real) * torch.log(1 - act_out))).sum()"
      ],
      "metadata": {
        "colab": {
          "base_uri": "https://localhost:8080/"
        },
        "id": "9saTWJuKRBFB",
        "outputId": "d6423fce-1ea3-4413-faa6-db6023ce847c"
      },
      "execution_count": null,
      "outputs": [
        {
          "output_type": "execute_result",
          "data": {
            "text/plain": [
              "tensor(8.5863)"
            ]
          },
          "metadata": {},
          "execution_count": 7
        }
      ]
    },
    {
      "cell_type": "code",
      "source": [
        "act_out = nn.Sigmoid()(out)\n",
        "nn.BCELoss(reduction = 'mean')(act_out , real)"
      ],
      "metadata": {
        "colab": {
          "base_uri": "https://localhost:8080/"
        },
        "id": "6NOha5ZZRCtX",
        "outputId": "f6576cb9-9ea8-4812-c9ef-aefc2f658cdf"
      },
      "execution_count": null,
      "outputs": [
        {
          "output_type": "execute_result",
          "data": {
            "text/plain": [
              "tensor(0.8586)"
            ]
          },
          "metadata": {},
          "execution_count": 8
        }
      ]
    },
    {
      "cell_type": "code",
      "source": [
        "(-(real * torch.log(act_out) + (1 - real) * torch.log(1 - act_out))).mean()"
      ],
      "metadata": {
        "colab": {
          "base_uri": "https://localhost:8080/"
        },
        "id": "LWEBzvNTRFTI",
        "outputId": "ea4cc8fe-9893-44f4-8fcc-c9209bd949ed"
      },
      "execution_count": null,
      "outputs": [
        {
          "output_type": "execute_result",
          "data": {
            "text/plain": [
              "tensor(0.8586)"
            ]
          },
          "metadata": {},
          "execution_count": 9
        }
      ]
    },
    {
      "cell_type": "code",
      "source": [
        "act_out = nn.Sigmoid()(out)\n",
        "wts = torch.zeros(10)\n",
        "wts[0] = -2\n",
        "wts[5] = 1\n",
        "nn.BCELoss(weight = wts , reduction = 'none')(act_out , real)"
      ],
      "metadata": {
        "colab": {
          "base_uri": "https://localhost:8080/"
        },
        "id": "pmy6eo7ZRHuK",
        "outputId": "6511cbc8-dff2-42fd-ada1-ef6976bdb5f3"
      },
      "execution_count": null,
      "outputs": [
        {
          "output_type": "execute_result",
          "data": {
            "text/plain": [
              "tensor([-1.4903,  0.0000,  0.0000,  0.0000,  0.0000,  0.6712,  0.0000,  0.0000,\n",
              "         0.0000,  0.0000])"
            ]
          },
          "metadata": {},
          "execution_count": 19
        }
      ]
    },
    {
      "cell_type": "code",
      "source": [],
      "metadata": {
        "id": "I9wWzL5iRaHo"
      },
      "execution_count": null,
      "outputs": []
    }
  ]
}