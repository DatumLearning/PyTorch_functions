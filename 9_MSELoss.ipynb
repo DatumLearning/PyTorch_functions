{
  "nbformat": 4,
  "nbformat_minor": 0,
  "metadata": {
    "colab": {
      "provenance": [],
      "authorship_tag": "ABX9TyOuttUaKW23b5rV05IW3B6u",
      "include_colab_link": true
    },
    "kernelspec": {
      "name": "python3",
      "display_name": "Python 3"
    },
    "language_info": {
      "name": "python"
    }
  },
  "cells": [
    {
      "cell_type": "markdown",
      "metadata": {
        "id": "view-in-github",
        "colab_type": "text"
      },
      "source": [
        "<a href=\"https://colab.research.google.com/github/DatumLearning/PyTorch_functions/blob/main/9_MSELoss.ipynb\" target=\"_parent\"><img src=\"https://colab.research.google.com/assets/colab-badge.svg\" alt=\"Open In Colab\"/></a>"
      ]
    },
    {
      "cell_type": "code",
      "execution_count": null,
      "metadata": {
        "id": "4YSzwVstn9_h"
      },
      "outputs": [],
      "source": [
        "import torch\n",
        "import torch.nn as nn"
      ]
    },
    {
      "cell_type": "code",
      "source": [
        "out = torch.randn(10)\n",
        "target = torch.randn(10)"
      ],
      "metadata": {
        "id": "UseEsBMDoFfV"
      },
      "execution_count": null,
      "outputs": []
    },
    {
      "cell_type": "code",
      "source": [
        "out , target"
      ],
      "metadata": {
        "colab": {
          "base_uri": "https://localhost:8080/"
        },
        "id": "DQS6eY86OEfI",
        "outputId": "0cadbdcd-e5c0-4bd9-a201-40d8d964f4b6"
      },
      "execution_count": null,
      "outputs": [
        {
          "output_type": "execute_result",
          "data": {
            "text/plain": [
              "(tensor([ 0.6892, -0.2860, -0.0096,  0.4027, -0.1802, -0.5634, -1.4514,  0.5956,\n",
              "          0.2113,  0.0068]),\n",
              " tensor([ 0.8245, -0.6872, -0.3566, -0.2669, -0.4937,  1.3047, -0.5157,  0.8484,\n",
              "          0.3413, -0.4652]))"
            ]
          },
          "metadata": {},
          "execution_count": 4
        }
      ]
    },
    {
      "cell_type": "code",
      "source": [
        "nn.MSELoss(reduction = 'none')(out , target)"
      ],
      "metadata": {
        "colab": {
          "base_uri": "https://localhost:8080/"
        },
        "id": "rCI8-RdqonL_",
        "outputId": "fc018be6-cb0e-492b-e1c4-0693b19ea9b9"
      },
      "execution_count": null,
      "outputs": [
        {
          "output_type": "execute_result",
          "data": {
            "text/plain": [
              "tensor([0.0183, 0.1609, 0.1205, 0.4484, 0.0983, 3.4897, 0.8756, 0.0639, 0.0169,\n",
              "        0.2228])"
            ]
          },
          "metadata": {},
          "execution_count": 3
        }
      ]
    },
    {
      "cell_type": "code",
      "source": [
        "(out - target) ** 2"
      ],
      "metadata": {
        "colab": {
          "base_uri": "https://localhost:8080/"
        },
        "id": "TqQhYlx4osXQ",
        "outputId": "0e38785f-aa3b-45c2-c6f2-89e7574ebd47"
      },
      "execution_count": null,
      "outputs": [
        {
          "output_type": "execute_result",
          "data": {
            "text/plain": [
              "tensor([0.0183, 0.1609, 0.1205, 0.4484, 0.0983, 3.4897, 0.8756, 0.0639, 0.0169,\n",
              "        0.2228])"
            ]
          },
          "metadata": {},
          "execution_count": 5
        }
      ]
    },
    {
      "cell_type": "code",
      "source": [
        "nn.MSELoss(reduction = 'sum')(out , target)"
      ],
      "metadata": {
        "colab": {
          "base_uri": "https://localhost:8080/"
        },
        "id": "aH9IW414owt5",
        "outputId": "4a0b73d9-2afc-4e2c-be29-2b5913dd6423"
      },
      "execution_count": null,
      "outputs": [
        {
          "output_type": "execute_result",
          "data": {
            "text/plain": [
              "tensor(5.5152)"
            ]
          },
          "metadata": {},
          "execution_count": 6
        }
      ]
    },
    {
      "cell_type": "code",
      "source": [
        "((out - target) ** 2).sum()"
      ],
      "metadata": {
        "colab": {
          "base_uri": "https://localhost:8080/"
        },
        "id": "_KbeLAFjo05h",
        "outputId": "b34f2ede-471c-4a9c-df4e-9550caae827c"
      },
      "execution_count": null,
      "outputs": [
        {
          "output_type": "execute_result",
          "data": {
            "text/plain": [
              "tensor(5.5152)"
            ]
          },
          "metadata": {},
          "execution_count": 7
        }
      ]
    },
    {
      "cell_type": "code",
      "source": [
        "nn.MSELoss(reduction = 'mean')(out , target)"
      ],
      "metadata": {
        "colab": {
          "base_uri": "https://localhost:8080/"
        },
        "id": "zCwfVC1Fo50b",
        "outputId": "c6d0d5a3-4b69-4440-a73d-da59bb5e93dd"
      },
      "execution_count": null,
      "outputs": [
        {
          "output_type": "execute_result",
          "data": {
            "text/plain": [
              "tensor(0.5515)"
            ]
          },
          "metadata": {},
          "execution_count": 8
        }
      ]
    },
    {
      "cell_type": "code",
      "source": [
        "((out - target) ** 2).mean()"
      ],
      "metadata": {
        "colab": {
          "base_uri": "https://localhost:8080/"
        },
        "id": "ZdIjqXTHo8fr",
        "outputId": "6d63f5d5-742e-40a7-d693-db31384c4179"
      },
      "execution_count": null,
      "outputs": [
        {
          "output_type": "execute_result",
          "data": {
            "text/plain": [
              "tensor(0.5515)"
            ]
          },
          "metadata": {},
          "execution_count": 9
        }
      ]
    },
    {
      "cell_type": "code",
      "source": [],
      "metadata": {
        "id": "O836qMr1o-sO"
      },
      "execution_count": null,
      "outputs": []
    }
  ]
}