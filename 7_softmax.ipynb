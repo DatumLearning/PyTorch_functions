{
  "nbformat": 4,
  "nbformat_minor": 0,
  "metadata": {
    "colab": {
      "provenance": [],
      "authorship_tag": "ABX9TyOO30xrnI59UYZw4JLRd55O",
      "include_colab_link": true
    },
    "kernelspec": {
      "name": "python3",
      "display_name": "Python 3"
    },
    "language_info": {
      "name": "python"
    }
  },
  "cells": [
    {
      "cell_type": "markdown",
      "metadata": {
        "id": "view-in-github",
        "colab_type": "text"
      },
      "source": [
        "<a href=\"https://colab.research.google.com/github/DatumLearning/PyTorch_functions/blob/main/7_softmax.ipynb\" target=\"_parent\"><img src=\"https://colab.research.google.com/assets/colab-badge.svg\" alt=\"Open In Colab\"/></a>"
      ]
    },
    {
      "cell_type": "code",
      "execution_count": null,
      "metadata": {
        "id": "IjAhcOpygeMY"
      },
      "outputs": [],
      "source": [
        "import torch\n",
        "import torch.nn as nn"
      ]
    },
    {
      "cell_type": "code",
      "source": [
        "rand = torch.randn(9 , 10)"
      ],
      "metadata": {
        "id": "RWkNIRpzl114"
      },
      "execution_count": null,
      "outputs": []
    },
    {
      "cell_type": "code",
      "source": [
        "rand"
      ],
      "metadata": {
        "colab": {
          "base_uri": "https://localhost:8080/"
        },
        "id": "0IpXqhcDhNzW",
        "outputId": "4fe7c863-faa6-435e-fc6e-3d83b337b8ac"
      },
      "execution_count": null,
      "outputs": [
        {
          "output_type": "execute_result",
          "data": {
            "text/plain": [
              "tensor([[ 0.7541,  0.1091, -0.2047, -2.0219,  0.9992, -1.2235, -1.3106, -0.3929,\n",
              "         -0.2024, -0.1602],\n",
              "        [ 0.3713,  0.8004, -1.6081,  0.1345, -0.9590,  0.6807,  2.3049,  0.7502,\n",
              "         -3.1126, -2.3857],\n",
              "        [ 0.1339,  0.6909,  0.4845, -2.4787, -0.9196,  1.3117, -0.5082,  0.0768,\n",
              "          1.0994,  0.7176],\n",
              "        [ 0.3912, -1.0149,  1.1474, -0.8045, -0.3960,  0.0495,  1.1903, -1.4273,\n",
              "          1.0982, -0.1151],\n",
              "        [-0.4049,  0.4478, -0.4494, -0.6071, -0.4728,  0.3588,  0.8682, -1.3465,\n",
              "         -1.0261, -1.9555],\n",
              "        [ 1.0746,  0.2308, -0.4800,  0.3359,  0.0378,  1.4655, -1.0540,  0.0378,\n",
              "          1.0278,  0.2908],\n",
              "        [-1.4960,  0.7652, -1.0827,  0.9002,  1.3165,  0.8686,  0.1405,  0.4147,\n",
              "         -1.2733, -1.8246],\n",
              "        [-0.2007, -0.7910, -0.1681,  0.4348,  0.4544,  1.6438,  1.0176,  0.1226,\n",
              "          1.5171, -0.3916],\n",
              "        [-1.0204,  0.3555, -1.7228, -0.1260,  0.2186, -0.2682, -0.5328,  0.7291,\n",
              "          1.5216, -0.3011]])"
            ]
          },
          "metadata": {},
          "execution_count": 51
        }
      ]
    },
    {
      "cell_type": "code",
      "source": [
        "out = nn.Softmax(dim = 1)(rand)\n",
        "out"
      ],
      "metadata": {
        "colab": {
          "base_uri": "https://localhost:8080/"
        },
        "id": "iBlgn-vzhpF6",
        "outputId": "e47129b1-65c9-4f5e-8d7b-6de9cb866560"
      },
      "execution_count": null,
      "outputs": [
        {
          "output_type": "execute_result",
          "data": {
            "text/plain": [
              "tensor([[0.2166, 0.1137, 0.0830, 0.0135, 0.2768, 0.0300, 0.0275, 0.0688, 0.0832,\n",
              "         0.0868],\n",
              "        [0.0738, 0.1133, 0.0102, 0.0582, 0.0195, 0.1005, 0.5099, 0.1077, 0.0023,\n",
              "         0.0047],\n",
              "        [0.0729, 0.1272, 0.1035, 0.0053, 0.0254, 0.2366, 0.0383, 0.0688, 0.1914,\n",
              "         0.1306],\n",
              "        [0.1014, 0.0249, 0.2160, 0.0307, 0.0462, 0.0721, 0.2255, 0.0165, 0.2057,\n",
              "         0.0611],\n",
              "        [0.0774, 0.1817, 0.0741, 0.0633, 0.0724, 0.1662, 0.2767, 0.0302, 0.0416,\n",
              "         0.0164],\n",
              "        [0.1713, 0.0737, 0.0362, 0.0818, 0.0608, 0.2533, 0.0204, 0.0608, 0.1635,\n",
              "         0.0782],\n",
              "        [0.0156, 0.1493, 0.0235, 0.1709, 0.2592, 0.1656, 0.0800, 0.1052, 0.0194,\n",
              "         0.0112],\n",
              "        [0.0419, 0.0232, 0.0433, 0.0790, 0.0806, 0.2648, 0.1416, 0.0578, 0.2333,\n",
              "         0.0346],\n",
              "        [0.0281, 0.1112, 0.0139, 0.0687, 0.0969, 0.0596, 0.0457, 0.1615, 0.3568,\n",
              "         0.0576]])"
            ]
          },
          "metadata": {},
          "execution_count": 52
        }
      ]
    },
    {
      "cell_type": "code",
      "source": [
        "out.sum(dim = 1)"
      ],
      "metadata": {
        "colab": {
          "base_uri": "https://localhost:8080/"
        },
        "id": "0D8EwwKJxp_3",
        "outputId": "d070b64d-d551-43b3-d645-5330a30c3ac9"
      },
      "execution_count": null,
      "outputs": [
        {
          "output_type": "execute_result",
          "data": {
            "text/plain": [
              "tensor([1.0000, 1.0000, 1.0000, 1.0000, 1.0000, 1.0000, 1.0000, 1.0000, 1.0000])"
            ]
          },
          "metadata": {},
          "execution_count": 54
        }
      ]
    },
    {
      "cell_type": "code",
      "source": [],
      "metadata": {
        "id": "-yW0diRBv2n4"
      },
      "execution_count": null,
      "outputs": []
    }
  ]
}