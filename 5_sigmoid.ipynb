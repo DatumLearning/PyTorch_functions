{
  "nbformat": 4,
  "nbformat_minor": 0,
  "metadata": {
    "colab": {
      "provenance": [],
      "authorship_tag": "ABX9TyMr3rLX636ZER6mAkiMQq39",
      "include_colab_link": true
    },
    "kernelspec": {
      "name": "python3",
      "display_name": "Python 3"
    },
    "language_info": {
      "name": "python"
    }
  },
  "cells": [
    {
      "cell_type": "markdown",
      "metadata": {
        "id": "view-in-github",
        "colab_type": "text"
      },
      "source": [
        "<a href=\"https://colab.research.google.com/github/DatumLearning/PyTorch_functions/blob/main/5_sigmoid.ipynb\" target=\"_parent\"><img src=\"https://colab.research.google.com/assets/colab-badge.svg\" alt=\"Open In Colab\"/></a>"
      ]
    },
    {
      "cell_type": "code",
      "execution_count": null,
      "metadata": {
        "id": "M1lNAYImU0Z4"
      },
      "outputs": [],
      "source": [
        "import torch\n",
        "import torch.nn as nn"
      ]
    },
    {
      "cell_type": "code",
      "source": [
        "rand = torch.randn(10)"
      ],
      "metadata": {
        "id": "waZRv496VISE"
      },
      "execution_count": null,
      "outputs": []
    },
    {
      "cell_type": "code",
      "source": [
        "rand"
      ],
      "metadata": {
        "colab": {
          "base_uri": "https://localhost:8080/"
        },
        "id": "n-FXn5vAVLRf",
        "outputId": "3b97b68c-049e-415f-8e69-896f83dba63d"
      },
      "execution_count": null,
      "outputs": [
        {
          "output_type": "execute_result",
          "data": {
            "text/plain": [
              "tensor([-1.6226,  0.3356, -0.1958, -0.2957, -0.8530, -0.2548, -2.8636, -1.4031,\n",
              "         1.1976, -1.5322])"
            ]
          },
          "metadata": {},
          "execution_count": 3
        }
      ]
    },
    {
      "cell_type": "code",
      "source": [
        "nn.Sigmoid()(rand)"
      ],
      "metadata": {
        "colab": {
          "base_uri": "https://localhost:8080/"
        },
        "id": "bLoLrz7yVLze",
        "outputId": "75450955-6ca9-47df-f80c-8b02eafd7b6b"
      },
      "execution_count": null,
      "outputs": [
        {
          "output_type": "execute_result",
          "data": {
            "text/plain": [
              "tensor([0.1649, 0.5831, 0.4512, 0.4266, 0.2988, 0.4366, 0.0540, 0.1973, 0.7681,\n",
              "        0.1777])"
            ]
          },
          "metadata": {},
          "execution_count": 4
        }
      ]
    },
    {
      "cell_type": "code",
      "source": [
        "def custom_sig(l):\n",
        "  return 1 / (1 + torch.exp(-l))"
      ],
      "metadata": {
        "id": "3saSILwIVN_B"
      },
      "execution_count": null,
      "outputs": []
    },
    {
      "cell_type": "code",
      "source": [
        "custom_sig(rand)"
      ],
      "metadata": {
        "id": "nstr5iFsVdSb",
        "outputId": "de0acab6-8d8d-48e2-d594-9879709616ae",
        "colab": {
          "base_uri": "https://localhost:8080/"
        }
      },
      "execution_count": null,
      "outputs": [
        {
          "output_type": "execute_result",
          "data": {
            "text/plain": [
              "tensor([0.1649, 0.5831, 0.4512, 0.4266, 0.2988, 0.4366, 0.0540, 0.1973, 0.7681,\n",
              "        0.1777])"
            ]
          },
          "metadata": {},
          "execution_count": 6
        }
      ]
    },
    {
      "cell_type": "code",
      "source": [],
      "metadata": {
        "id": "vgU1jTy8Veua"
      },
      "execution_count": null,
      "outputs": []
    }
  ]
}