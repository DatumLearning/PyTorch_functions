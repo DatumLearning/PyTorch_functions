{
  "nbformat": 4,
  "nbformat_minor": 0,
  "metadata": {
    "colab": {
      "provenance": [],
      "authorship_tag": "ABX9TyPMOIe91spg9G+hmuPJXCbg",
      "include_colab_link": true
    },
    "kernelspec": {
      "name": "python3",
      "display_name": "Python 3"
    },
    "language_info": {
      "name": "python"
    }
  },
  "cells": [
    {
      "cell_type": "markdown",
      "metadata": {
        "id": "view-in-github",
        "colab_type": "text"
      },
      "source": [
        "<a href=\"https://colab.research.google.com/github/DatumLearning/PyTorch_functions/blob/main/17_maxpool2d.ipynb\" target=\"_parent\"><img src=\"https://colab.research.google.com/assets/colab-badge.svg\" alt=\"Open In Colab\"/></a>"
      ]
    },
    {
      "cell_type": "code",
      "execution_count": null,
      "metadata": {
        "id": "8BdqwxkHph1W"
      },
      "outputs": [],
      "source": [
        "import torch\n",
        "import torch.nn as nn"
      ]
    },
    {
      "cell_type": "code",
      "source": [
        "img = torch.arange(1 , 26).reshape(1 , 1 , 5 , 5)"
      ],
      "metadata": {
        "id": "kx0inPQKpmTH"
      },
      "execution_count": null,
      "outputs": []
    },
    {
      "cell_type": "code",
      "source": [
        "img"
      ],
      "metadata": {
        "colab": {
          "base_uri": "https://localhost:8080/"
        },
        "id": "DILIJUD9prf1",
        "outputId": "b39573af-f36f-4942-b08d-7f67c163634f"
      },
      "execution_count": null,
      "outputs": [
        {
          "output_type": "execute_result",
          "data": {
            "text/plain": [
              "tensor([[[[ 1,  2,  3,  4,  5],\n",
              "          [ 6,  7,  8,  9, 10],\n",
              "          [11, 12, 13, 14, 15],\n",
              "          [16, 17, 18, 19, 20],\n",
              "          [21, 22, 23, 24, 25]]]])"
            ]
          },
          "metadata": {},
          "execution_count": 3
        }
      ]
    },
    {
      "cell_type": "code",
      "source": [
        "nn.functional.max_pool2d(img , kernel_size = 2 , ceil_mode = True , return_indices = True)"
      ],
      "metadata": {
        "colab": {
          "base_uri": "https://localhost:8080/"
        },
        "id": "mUX36B2tpr60",
        "outputId": "4111752d-67ce-4b2c-ed30-cc4ba9b1eaed"
      },
      "execution_count": null,
      "outputs": [
        {
          "output_type": "execute_result",
          "data": {
            "text/plain": [
              "(tensor([[[[ 7,  9, 10],\n",
              "           [17, 19, 20],\n",
              "           [22, 24, 25]]]]),\n",
              " tensor([[[[ 6,  8,  9],\n",
              "           [16, 18, 19],\n",
              "           [21, 23, 24]]]]))"
            ]
          },
          "metadata": {},
          "execution_count": 6
        }
      ]
    },
    {
      "cell_type": "code",
      "source": [
        "nn.functional.max_pool2d(img , kernel_size = 2)"
      ],
      "metadata": {
        "id": "dDLbwOQUfh_y"
      },
      "execution_count": null,
      "outputs": []
    }
  ]
}